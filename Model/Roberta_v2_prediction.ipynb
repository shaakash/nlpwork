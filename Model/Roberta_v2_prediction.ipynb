{
 "cells": [
  {
   "cell_type": "code",
   "execution_count": 1,
   "metadata": {
    "colab": {
     "base_uri": "https://localhost:8080/"
    },
    "executionInfo": {
     "elapsed": 6281,
     "status": "ok",
     "timestamp": 1622980019062,
     "user": {
      "displayName": "Aakash Sharma",
      "photoUrl": "https://lh3.googleusercontent.com/a-/AOh14GgY1U43tf9_Z6VZV1hsLBf_u9Guj9GqlyzZB8ICsw=s64",
      "userId": "03793056575879410905"
     },
     "user_tz": -330
    },
    "id": "fg5f4h4xU1M4",
    "outputId": "57441709-8498-4e3c-a4fe-22e369c98b67"
   },
   "outputs": [
    {
     "name": "stdout",
     "output_type": "stream",
     "text": [
      "Collecting transformers\n",
      "  Downloading transformers-4.6.1-py3-none-any.whl (2.2 MB)\n",
      "Requirement already satisfied: filelock in c:\\users\\hp\\anaconda3\\lib\\site-packages (from transformers) (3.0.12)\n",
      "Requirement already satisfied: regex!=2019.12.17 in c:\\users\\hp\\anaconda3\\lib\\site-packages (from transformers) (2021.4.4)\n",
      "Requirement already satisfied: tqdm>=4.27 in c:\\users\\hp\\anaconda3\\lib\\site-packages (from transformers) (4.59.0)\n",
      "Collecting tokenizers<0.11,>=0.10.1\n",
      "  Downloading tokenizers-0.10.3-cp38-cp38-win_amd64.whl (2.0 MB)\n",
      "Requirement already satisfied: numpy>=1.17 in c:\\users\\hp\\anaconda3\\lib\\site-packages (from transformers) (1.20.1)\n",
      "Requirement already satisfied: packaging in c:\\users\\hp\\anaconda3\\lib\\site-packages (from transformers) (20.9)\n",
      "Collecting sacremoses\n",
      "  Downloading sacremoses-0.0.45-py3-none-any.whl (895 kB)\n",
      "Requirement already satisfied: requests in c:\\users\\hp\\anaconda3\\lib\\site-packages (from transformers) (2.25.1)\n",
      "Collecting huggingface-hub==0.0.8\n",
      "  Downloading huggingface_hub-0.0.8-py3-none-any.whl (34 kB)\n",
      "Requirement already satisfied: pyparsing>=2.0.2 in c:\\users\\hp\\anaconda3\\lib\\site-packages (from packaging->transformers) (2.4.7)\n",
      "Requirement already satisfied: urllib3<1.27,>=1.21.1 in c:\\users\\hp\\anaconda3\\lib\\site-packages (from requests->transformers) (1.26.4)\n",
      "Requirement already satisfied: certifi>=2017.4.17 in c:\\users\\hp\\anaconda3\\lib\\site-packages (from requests->transformers) (2020.12.5)\n",
      "Requirement already satisfied: idna<3,>=2.5 in c:\\users\\hp\\anaconda3\\lib\\site-packages (from requests->transformers) (2.10)\n",
      "Requirement already satisfied: chardet<5,>=3.0.2 in c:\\users\\hp\\anaconda3\\lib\\site-packages (from requests->transformers) (4.0.0)\n",
      "Requirement already satisfied: six in c:\\users\\hp\\anaconda3\\lib\\site-packages (from sacremoses->transformers) (1.15.0)\n",
      "Requirement already satisfied: click in c:\\users\\hp\\anaconda3\\lib\\site-packages (from sacremoses->transformers) (7.1.2)\n",
      "Requirement already satisfied: joblib in c:\\users\\hp\\anaconda3\\lib\\site-packages (from sacremoses->transformers) (1.0.1)\n",
      "Installing collected packages: tokenizers, sacremoses, huggingface-hub, transformers\n",
      "Successfully installed huggingface-hub-0.0.8 sacremoses-0.0.45 tokenizers-0.10.3 transformers-4.6.1\n"
     ]
    }
   ],
   "source": [
    "!pip install transformers"
   ]
  },
  {
   "cell_type": "code",
   "execution_count": 3,
   "metadata": {},
   "outputs": [
    {
     "name": "stdout",
     "output_type": "stream",
     "text": [
      "Collecting torch\n",
      "  Downloading torch-1.8.1-cp38-cp38-win_amd64.whl (190.5 MB)\n",
      "Requirement already satisfied: typing-extensions in c:\\users\\hp\\anaconda3\\lib\\site-packages (from torch) (3.7.4.3)\n",
      "Requirement already satisfied: numpy in c:\\users\\hp\\anaconda3\\lib\\site-packages (from torch) (1.20.1)\n",
      "Installing collected packages: torch\n",
      "Successfully installed torch-1.8.1\n"
     ]
    }
   ],
   "source": [
    "!pip install torch"
   ]
  },
  {
   "cell_type": "code",
   "execution_count": 2,
   "metadata": {
    "executionInfo": {
     "elapsed": 5,
     "status": "ok",
     "timestamp": 1622980019063,
     "user": {
      "displayName": "Aakash Sharma",
      "photoUrl": "https://lh3.googleusercontent.com/a-/AOh14GgY1U43tf9_Z6VZV1hsLBf_u9Guj9GqlyzZB8ICsw=s64",
      "userId": "03793056575879410905"
     },
     "user_tz": -330
    },
    "id": "EeDf-2at1AE4"
   },
   "outputs": [],
   "source": [
    "# Get CoLA dataset from its official source\n",
    "\n",
    "#!wget https://nyu-mll.github.io/CoLA/cola_public_1.1.zip\n",
    "#!unzip cola_public_1.1.zip \n",
    "#!cp ./cola_public/raw/in_domain_train.tsv .\n",
    "#!cp ./cola_public/raw/out_of_domain_dev.tsv ."
   ]
  },
  {
   "cell_type": "code",
   "execution_count": 2,
   "metadata": {
    "executionInfo": {
     "elapsed": 5327,
     "status": "ok",
     "timestamp": 1622980024386,
     "user": {
      "displayName": "Aakash Sharma",
      "photoUrl": "https://lh3.googleusercontent.com/a-/AOh14GgY1U43tf9_Z6VZV1hsLBf_u9Guj9GqlyzZB8ICsw=s64",
      "userId": "03793056575879410905"
     },
     "user_tz": -330
    },
    "id": "5a4qAvBStMQ4"
   },
   "outputs": [],
   "source": [
    "import pandas as pd\n",
    "import numpy as np\n",
    "from transformers import RobertaForSequenceClassification,RobertaTokenizer\n",
    "import torch\n",
    "import tensorflow as tf\n",
    "from torch.utils.data import DataLoader, RandomSampler, SequentialSampler\n",
    "from torch.utils.data import TensorDataset, random_split"
   ]
  },
  {
   "cell_type": "code",
   "execution_count": 4,
   "metadata": {
    "colab": {
     "base_uri": "https://localhost:8080/"
    },
    "executionInfo": {
     "elapsed": 445,
     "status": "ok",
     "timestamp": 1622980029448,
     "user": {
      "displayName": "Aakash Sharma",
      "photoUrl": "https://lh3.googleusercontent.com/a-/AOh14GgY1U43tf9_Z6VZV1hsLBf_u9Guj9GqlyzZB8ICsw=s64",
      "userId": "03793056575879410905"
     },
     "user_tz": -330
    },
    "id": "adqRraVAZiSz",
    "outputId": "3026fd84-af9e-423b-dbc2-dd09f05fbd92"
   },
   "outputs": [
    {
     "name": "stdout",
     "output_type": "stream",
     "text": [
      "Found GPU at: /device:GPU:0\n"
     ]
    }
   ],
   "source": [
    "# Get the GPU device name.\n",
    "device_name = tf.test.gpu_device_name()\n",
    "\n",
    "# The device name should look like the following:\n",
    "if device_name == '/device:GPU:0':\n",
    "    print('Found GPU at: {}'.format(device_name))\n",
    "else:\n",
    "    raise SystemError('GPU device not found')"
   ]
  },
  {
   "cell_type": "code",
   "execution_count": 5,
   "metadata": {
    "colab": {
     "base_uri": "https://localhost:8080/"
    },
    "executionInfo": {
     "elapsed": 14,
     "status": "ok",
     "timestamp": 1622980029450,
     "user": {
      "displayName": "Aakash Sharma",
      "photoUrl": "https://lh3.googleusercontent.com/a-/AOh14GgY1U43tf9_Z6VZV1hsLBf_u9Guj9GqlyzZB8ICsw=s64",
      "userId": "03793056575879410905"
     },
     "user_tz": -330
    },
    "id": "W1l8CeexZotP",
    "outputId": "669dfa1b-dddc-4f18-f785-4fd462550639"
   },
   "outputs": [
    {
     "name": "stdout",
     "output_type": "stream",
     "text": [
      "There are 1 GPU(s) available.\n",
      "We will use the GPU: Tesla T4\n"
     ]
    }
   ],
   "source": [
    "# If there's a GPU available...\n",
    "if torch.cuda.is_available():    \n",
    "\n",
    "    # Tell PyTorch to use the GPU.    \n",
    "    device = torch.device(\"cuda\")\n",
    "\n",
    "    print('There are %d GPU(s) available.' % torch.cuda.device_count())\n",
    "\n",
    "    print('We will use the GPU:', torch.cuda.get_device_name(0))\n",
    "\n",
    "# If not...\n",
    "else:\n",
    "    print('No GPU available, using the CPU instead.')\n",
    "    device = torch.device(\"cpu\")"
   ]
  },
  {
   "cell_type": "code",
   "execution_count": 6,
   "metadata": {
    "colab": {
     "base_uri": "https://localhost:8080/"
    },
    "executionInfo": {
     "elapsed": 49649,
     "status": "ok",
     "timestamp": 1622980079087,
     "user": {
      "displayName": "Aakash Sharma",
      "photoUrl": "https://lh3.googleusercontent.com/a-/AOh14GgY1U43tf9_Z6VZV1hsLBf_u9Guj9GqlyzZB8ICsw=s64",
      "userId": "03793056575879410905"
     },
     "user_tz": -330
    },
    "id": "s9NLOHr-VAzS",
    "outputId": "3e0dd185-fbcc-4276-af67-f13d7c30a117"
   },
   "outputs": [
    {
     "name": "stdout",
     "output_type": "stream",
     "text": [
      "Mounted at /content/drive\n"
     ]
    }
   ],
   "source": [
    "from google.colab import drive\n",
    "drive.mount('/content/drive')"
   ]
  },
  {
   "cell_type": "code",
   "execution_count": 7,
   "metadata": {
    "executionInfo": {
     "elapsed": 8,
     "status": "ok",
     "timestamp": 1622980079088,
     "user": {
      "displayName": "Aakash Sharma",
      "photoUrl": "https://lh3.googleusercontent.com/a-/AOh14GgY1U43tf9_Z6VZV1hsLBf_u9Guj9GqlyzZB8ICsw=s64",
      "userId": "03793056575879410905"
     },
     "user_tz": -330
    },
    "id": "UxQ1qOaEjty5"
   },
   "outputs": [],
   "source": [
    "df = pd.read_excel('./drive/MyDrive/Roberta_Large_GED_Output/voca_input.xlsx', sheet_name=None, usecols=\"A,B\", header=None, skiprows=1)\n",
    "df = pd.concat([df.assign(sheet=n) for n,df in df.items()], sort=True)\n",
    "df.columns = ['sentence','label','sheet']"
   ]
  },
  {
   "cell_type": "code",
   "execution_count": 8,
   "metadata": {
    "executionInfo": {
     "elapsed": 5,
     "status": "ok",
     "timestamp": 1622980079088,
     "user": {
      "displayName": "Aakash Sharma",
      "photoUrl": "https://lh3.googleusercontent.com/a-/AOh14GgY1U43tf9_Z6VZV1hsLBf_u9Guj9GqlyzZB8ICsw=s64",
      "userId": "03793056575879410905"
     },
     "user_tz": -330
    },
    "id": "qFaJvlTMuRuo"
   },
   "outputs": [],
   "source": [
    "#df = pd.read_csv(\"./drive/MyDrive/Roberta_Large_GED_Output/voca_sample.csv\", delimiter=',', header=None, names=['sentence', 'label'], encoding='cp1252')"
   ]
  },
  {
   "cell_type": "markdown",
   "metadata": {
    "id": "qcON8aR3gvF1"
   },
   "source": []
  },
  {
   "cell_type": "code",
   "execution_count": 8,
   "metadata": {
    "executionInfo": {
     "elapsed": 7,
     "status": "ok",
     "timestamp": 1622980079610,
     "user": {
      "displayName": "Aakash Sharma",
      "photoUrl": "https://lh3.googleusercontent.com/a-/AOh14GgY1U43tf9_Z6VZV1hsLBf_u9Guj9GqlyzZB8ICsw=s64",
      "userId": "03793056575879410905"
     },
     "user_tz": -330
    },
    "id": "wch71Ks6j6W4"
   },
   "outputs": [],
   "source": []
  },
  {
   "cell_type": "code",
   "execution_count": 9,
   "metadata": {
    "colab": {
     "base_uri": "https://localhost:8080/",
     "height": 669
    },
    "executionInfo": {
     "elapsed": 8,
     "status": "ok",
     "timestamp": 1622980079611,
     "user": {
      "displayName": "Aakash Sharma",
      "photoUrl": "https://lh3.googleusercontent.com/a-/AOh14GgY1U43tf9_Z6VZV1hsLBf_u9Guj9GqlyzZB8ICsw=s64",
      "userId": "03793056575879410905"
     },
     "user_tz": -330
    },
    "id": "5iPwwPHZsyPU",
    "outputId": "c535fa93-6807-4ab7-ab37-b45e6745cc2c"
   },
   "outputs": [
    {
     "data": {
      "text/html": [
       "<div>\n",
       "<style scoped>\n",
       "    .dataframe tbody tr th:only-of-type {\n",
       "        vertical-align: middle;\n",
       "    }\n",
       "\n",
       "    .dataframe tbody tr th {\n",
       "        vertical-align: top;\n",
       "    }\n",
       "\n",
       "    .dataframe thead th {\n",
       "        text-align: right;\n",
       "    }\n",
       "</style>\n",
       "<table border=\"1\" class=\"dataframe\">\n",
       "  <thead>\n",
       "    <tr style=\"text-align: right;\">\n",
       "      <th></th>\n",
       "      <th>sentence</th>\n",
       "      <th>label</th>\n",
       "      <th>sheet</th>\n",
       "    </tr>\n",
       "  </thead>\n",
       "  <tbody>\n",
       "    <tr>\n",
       "      <th>0</th>\n",
       "      <td>One day there were some pirates</td>\n",
       "      <td>1</td>\n",
       "      <td>Standardize – Stand or Die</td>\n",
       "    </tr>\n",
       "    <tr>\n",
       "      <th>1</th>\n",
       "      <td>They could never standardize anything</td>\n",
       "      <td>1</td>\n",
       "      <td>Standardize – Stand or Die</td>\n",
       "    </tr>\n",
       "    <tr>\n",
       "      <th>2</th>\n",
       "      <td>They couldn’t establish how much their ship w...</td>\n",
       "      <td>0</td>\n",
       "      <td>Standardize – Stand or Die</td>\n",
       "    </tr>\n",
       "    <tr>\n",
       "      <th>3</th>\n",
       "      <td>They didn’t know how much their ship could hold</td>\n",
       "      <td>1</td>\n",
       "      <td>Standardize – Stand or Die</td>\n",
       "    </tr>\n",
       "    <tr>\n",
       "      <th>4</th>\n",
       "      <td>Then out of nowhere once their captain just s...</td>\n",
       "      <td>0</td>\n",
       "      <td>Standardize – Stand or Die</td>\n",
       "    </tr>\n",
       "    <tr>\n",
       "      <th>5</th>\n",
       "      <td>So reluctantly all of the pirates stood</td>\n",
       "      <td>1</td>\n",
       "      <td>Standardize – Stand or Die</td>\n",
       "    </tr>\n",
       "    <tr>\n",
       "      <th>6</th>\n",
       "      <td>Unfortunately their fears became true and the...</td>\n",
       "      <td>1</td>\n",
       "      <td>Standardize – Stand or Die</td>\n",
       "    </tr>\n",
       "    <tr>\n",
       "      <th>7</th>\n",
       "      <td>They started throwing cargo overboard to stop...</td>\n",
       "      <td>0</td>\n",
       "      <td>Standardize – Stand or Die</td>\n",
       "    </tr>\n",
       "    <tr>\n",
       "      <th>8</th>\n",
       "      <td>The ship sank and all they had gained was lost</td>\n",
       "      <td>1</td>\n",
       "      <td>Standardize – Stand or Die</td>\n",
       "    </tr>\n",
       "    <tr>\n",
       "      <th>9</th>\n",
       "      <td>Nothing had ended well</td>\n",
       "      <td>1</td>\n",
       "      <td>Standardize – Stand or Die</td>\n",
       "    </tr>\n",
       "    <tr>\n",
       "      <th>0</th>\n",
       "      <td>Once upon a time there was a train station cal...</td>\n",
       "      <td>1</td>\n",
       "      <td>Translation – train station</td>\n",
       "    </tr>\n",
       "    <tr>\n",
       "      <th>1</th>\n",
       "      <td>There was a family that wanted to go on a tri...</td>\n",
       "      <td>0</td>\n",
       "      <td>Translation – train station</td>\n",
       "    </tr>\n",
       "    <tr>\n",
       "      <th>2</th>\n",
       "      <td>The family said this is a very famouse train ...</td>\n",
       "      <td>1</td>\n",
       "      <td>Translation – train station</td>\n",
       "    </tr>\n",
       "    <tr>\n",
       "      <th>3</th>\n",
       "      <td>The translator said train station, that is no...</td>\n",
       "      <td>0</td>\n",
       "      <td>Translation – train station</td>\n",
       "    </tr>\n",
       "    <tr>\n",
       "      <th>0</th>\n",
       "      <td>One very bright and sunny day, Bob, Kate and T...</td>\n",
       "      <td>1</td>\n",
       "      <td>3.Suffocate – surf on kate</td>\n",
       "    </tr>\n",
       "    <tr>\n",
       "      <th>1</th>\n",
       "      <td>When they arrived they took out their surfboa...</td>\n",
       "      <td>1</td>\n",
       "      <td>3.Suffocate – surf on kate</td>\n",
       "    </tr>\n",
       "    <tr>\n",
       "      <th>2</th>\n",
       "      <td>Their last wave was huge and they rode it but...</td>\n",
       "      <td>1</td>\n",
       "      <td>3.Suffocate – surf on kate</td>\n",
       "    </tr>\n",
       "    <tr>\n",
       "      <th>3</th>\n",
       "      <td>When they landed on the sand, Kate was runnin...</td>\n",
       "      <td>1</td>\n",
       "      <td>3.Suffocate – surf on kate</td>\n",
       "    </tr>\n",
       "    <tr>\n",
       "      <th>4</th>\n",
       "      <td>They picked it up and found kate laying down ...</td>\n",
       "      <td>0</td>\n",
       "      <td>3.Suffocate – surf on kate</td>\n",
       "    </tr>\n",
       "    <tr>\n",
       "      <th>5</th>\n",
       "      <td>They packed up and left the beach and headed ...</td>\n",
       "      <td>1</td>\n",
       "      <td>3.Suffocate – surf on kate</td>\n",
       "    </tr>\n",
       "  </tbody>\n",
       "</table>\n",
       "</div>"
      ],
      "text/plain": [
       "                                            sentence  ...                        sheet\n",
       "0                    One day there were some pirates  ...   Standardize – Stand or Die\n",
       "1              They could never standardize anything  ...   Standardize – Stand or Die\n",
       "2   They couldn’t establish how much their ship w...  ...   Standardize – Stand or Die\n",
       "3    They didn’t know how much their ship could hold  ...   Standardize – Stand or Die\n",
       "4   Then out of nowhere once their captain just s...  ...   Standardize – Stand or Die\n",
       "5            So reluctantly all of the pirates stood  ...   Standardize – Stand or Die\n",
       "6   Unfortunately their fears became true and the...  ...   Standardize – Stand or Die\n",
       "7   They started throwing cargo overboard to stop...  ...   Standardize – Stand or Die\n",
       "8     The ship sank and all they had gained was lost  ...   Standardize – Stand or Die\n",
       "9                             Nothing had ended well  ...   Standardize – Stand or Die\n",
       "0  Once upon a time there was a train station cal...  ...  Translation – train station\n",
       "1   There was a family that wanted to go on a tri...  ...  Translation – train station\n",
       "2   The family said this is a very famouse train ...  ...  Translation – train station\n",
       "3   The translator said train station, that is no...  ...  Translation – train station\n",
       "0  One very bright and sunny day, Bob, Kate and T...  ...   3.Suffocate – surf on kate\n",
       "1   When they arrived they took out their surfboa...  ...   3.Suffocate – surf on kate\n",
       "2   Their last wave was huge and they rode it but...  ...   3.Suffocate – surf on kate\n",
       "3   When they landed on the sand, Kate was runnin...  ...   3.Suffocate – surf on kate\n",
       "4   They picked it up and found kate laying down ...  ...   3.Suffocate – surf on kate\n",
       "5   They packed up and left the beach and headed ...  ...   3.Suffocate – surf on kate\n",
       "\n",
       "[20 rows x 3 columns]"
      ]
     },
     "execution_count": 9,
     "metadata": {
      "tags": []
     },
     "output_type": "execute_result"
    }
   ],
   "source": [
    "df.head(20)"
   ]
  },
  {
   "cell_type": "code",
   "execution_count": 10,
   "metadata": {
    "executionInfo": {
     "elapsed": 6,
     "status": "ok",
     "timestamp": 1622980079611,
     "user": {
      "displayName": "Aakash Sharma",
      "photoUrl": "https://lh3.googleusercontent.com/a-/AOh14GgY1U43tf9_Z6VZV1hsLBf_u9Guj9GqlyzZB8ICsw=s64",
      "userId": "03793056575879410905"
     },
     "user_tz": -330
    },
    "id": "z9Mpk3jXvHt_"
   },
   "outputs": [],
   "source": [
    "# Create sentence and label lists\n",
    "sentences = df.sentence.values\n",
    "labels = df.label.values\n",
    "\n",
    "# Tokenize all of the sentences and map the tokens to thier word IDs.\n",
    "input_id = []\n",
    "attention_masks = []"
   ]
  },
  {
   "cell_type": "code",
   "execution_count": 11,
   "metadata": {
    "executionInfo": {
     "elapsed": 22748,
     "status": "ok",
     "timestamp": 1622980102354,
     "user": {
      "displayName": "Aakash Sharma",
      "photoUrl": "https://lh3.googleusercontent.com/a-/AOh14GgY1U43tf9_Z6VZV1hsLBf_u9Guj9GqlyzZB8ICsw=s64",
      "userId": "03793056575879410905"
     },
     "user_tz": -330
    },
    "id": "65OjCrHKvOct"
   },
   "outputs": [],
   "source": [
    "output_dir = './drive/MyDrive/Roberta/'\n",
    "tokenizer = RobertaTokenizer.from_pretrained(output_dir)\n",
    "model_loaded = RobertaForSequenceClassification.from_pretrained(output_dir)"
   ]
  },
  {
   "cell_type": "code",
   "execution_count": 12,
   "metadata": {
    "executionInfo": {
     "elapsed": 20,
     "status": "ok",
     "timestamp": 1622980102362,
     "user": {
      "displayName": "Aakash Sharma",
      "photoUrl": "https://lh3.googleusercontent.com/a-/AOh14GgY1U43tf9_Z6VZV1hsLBf_u9Guj9GqlyzZB8ICsw=s64",
      "userId": "03793056575879410905"
     },
     "user_tz": -330
    },
    "id": "wmdFMLpbCsot"
   },
   "outputs": [],
   "source": [
    "for sent in sentences:\n",
    "  encoded_dict = tokenizer.encode_plus(\n",
    "                        sent,                      # Sentence to encode.\n",
    "                        add_special_tokens = True, # Add '[CLS]' and '[SEP]'\n",
    "                        max_length = 64,           # Pad & truncate all sentences.\n",
    "                        padding='max_length',\n",
    "                        return_attention_mask = True,   # Construct attn. masks.\n",
    "                        return_tensors = 'pt',     # Return pytorch tensors.\n",
    "                   )\n",
    "    \n",
    "    # Add the encoded sentence to the list.    \n",
    "  input_id.append(encoded_dict['input_ids'])\n",
    "    \n",
    "    # And its attention mask (simply differentiates padding from non-padding).\n",
    "  attention_masks.append(encoded_dict['attention_mask'])\n",
    "\n",
    "# Convert the lists into tensors.\n",
    "input_ids = torch.cat(input_id, dim=0)\n",
    "attention_masks = torch.cat(attention_masks, dim=0)\n",
    "labels = torch.tensor(labels)\n",
    "\n",
    "# Set the batch size.  \n",
    "batch_size = 32  \n",
    "\n",
    "# Create the DataLoader.\n",
    "prediction_data = TensorDataset(input_ids, attention_masks, labels)\n",
    "prediction_sampler = SequentialSampler(prediction_data)\n",
    "prediction_dataloader = DataLoader(prediction_data, sampler=prediction_sampler, batch_size=batch_size) "
   ]
  },
  {
   "cell_type": "code",
   "execution_count": 13,
   "metadata": {
    "executionInfo": {
     "elapsed": 13373,
     "status": "ok",
     "timestamp": 1622980115716,
     "user": {
      "displayName": "Aakash Sharma",
      "photoUrl": "https://lh3.googleusercontent.com/a-/AOh14GgY1U43tf9_Z6VZV1hsLBf_u9Guj9GqlyzZB8ICsw=s64",
      "userId": "03793056575879410905"
     },
     "user_tz": -330
    },
    "id": "-68Hpr8XsopI"
   },
   "outputs": [],
   "source": [
    "model_loaded.eval()\n",
    "\n",
    "# Tracking variables \n",
    "predictions , true_labels = [], []\n",
    "\n",
    "# Predict \n",
    "for batch in prediction_dataloader:\n",
    "  # Add batch to GPU\n",
    "  batch = tuple(t.to(device) for t in batch)\n",
    "  \n",
    "  # Unpack the inputs from our dataloader\n",
    "  b_input_ids, b_input_mask, b_labels = batch\n",
    "\n",
    "  device = torch.device(\"cuda\" if torch.cuda.is_available() else \"cpu\")\n",
    "  model_loaded = model_loaded.to(device)\n",
    "  b_input_ids = b_input_ids.to(device)\n",
    "  b_input_mask = b_input_mask.to(device)\n",
    "  \n",
    "  # Telling the model not to compute or store gradients, saving memory and \n",
    "  # speeding up prediction\n",
    "  with torch.no_grad():\n",
    "\n",
    "      # Forward pass, calculate logit predictions\n",
    "    outputs = model_loaded(b_input_ids, token_type_ids=None, \n",
    "                      attention_mask=b_input_mask)\n",
    "\n",
    "  logits = outputs[0]\n",
    "\n",
    "  # Move logits and labels to CPU\n",
    "  logits = logits.detach().cpu().numpy()\n",
    "  label_ids = b_labels.to('cpu').numpy()\n",
    "  \n",
    "  # Store predictions and true labels\n",
    "  predictions.append(logits)\n",
    "  true_labels.append(label_ids)"
   ]
  },
  {
   "cell_type": "code",
   "execution_count": 14,
   "metadata": {
    "executionInfo": {
     "elapsed": 25,
     "status": "ok",
     "timestamp": 1622980115722,
     "user": {
      "displayName": "Aakash Sharma",
      "photoUrl": "https://lh3.googleusercontent.com/a-/AOh14GgY1U43tf9_Z6VZV1hsLBf_u9Guj9GqlyzZB8ICsw=s64",
      "userId": "03793056575879410905"
     },
     "user_tz": -330
    },
    "id": "_hougWX642HZ"
   },
   "outputs": [],
   "source": [
    "flat_predictions = np.concatenate(predictions, axis=0)\n",
    "# For each sample, pick the label (0 or 1) with the higher score.\n",
    "flat_predictions = np.argmax(flat_predictions, axis=1).flatten()\n",
    "\n",
    "# Combine the correct labels for each batch into a single list.\n",
    "flat_true_labels = np.concatenate(true_labels, axis=0)"
   ]
  },
  {
   "cell_type": "code",
   "execution_count": 15,
   "metadata": {
    "colab": {
     "base_uri": "https://localhost:8080/"
    },
    "executionInfo": {
     "elapsed": 25,
     "status": "ok",
     "timestamp": 1622980115723,
     "user": {
      "displayName": "Aakash Sharma",
      "photoUrl": "https://lh3.googleusercontent.com/a-/AOh14GgY1U43tf9_Z6VZV1hsLBf_u9Guj9GqlyzZB8ICsw=s64",
      "userId": "03793056575879410905"
     },
     "user_tz": -330
    },
    "id": "YYpJ90_G4Pyp",
    "outputId": "a1f50758-d752-4a03-e03f-13d3225658e2"
   },
   "outputs": [
    {
     "data": {
      "text/plain": [
       "array([1, 1, 0, 1, 0, 1, 1, 0, 1, 1, 1, 0, 1, 0, 1, 1, 1, 1, 0, 1, 1, 1,\n",
       "       1, 1, 1, 1, 1, 1, 1, 1, 1, 1, 1, 0, 1, 1, 1, 1, 1, 1, 1, 1, 1, 1,\n",
       "       1, 1, 1, 1, 1, 1, 1, 1, 1, 1, 1, 1, 1, 1, 1, 1, 1, 1, 1, 1, 1, 1,\n",
       "       1, 1, 1, 1, 1, 1, 1, 1, 1, 1, 1, 1, 1, 1, 1, 1, 1, 1, 1, 1, 1, 1,\n",
       "       1, 1, 0, 1, 1, 1, 1, 1, 1, 1, 1, 1, 1, 1, 1, 1, 1, 1, 1, 1, 1, 1,\n",
       "       1, 0, 1, 1, 1, 1, 1, 1, 1, 1, 1, 1, 1, 1, 1, 1, 1, 1, 1, 1, 1, 1,\n",
       "       1, 1, 1, 1, 1, 1, 1, 1, 1, 1, 1, 1, 1, 1, 1, 1, 1, 1, 1, 1, 1, 1,\n",
       "       1, 1, 1, 1, 1, 1, 1, 1, 1, 1, 1, 1, 1, 1, 1, 1])"
      ]
     },
     "execution_count": 15,
     "metadata": {
      "tags": []
     },
     "output_type": "execute_result"
    }
   ],
   "source": [
    "flat_true_labels"
   ]
  },
  {
   "cell_type": "code",
   "execution_count": 16,
   "metadata": {
    "executionInfo": {
     "elapsed": 24,
     "status": "ok",
     "timestamp": 1622980115724,
     "user": {
      "displayName": "Aakash Sharma",
      "photoUrl": "https://lh3.googleusercontent.com/a-/AOh14GgY1U43tf9_Z6VZV1hsLBf_u9Guj9GqlyzZB8ICsw=s64",
      "userId": "03793056575879410905"
     },
     "user_tz": -330
    },
    "id": "fzhLSYEKW9I9"
   },
   "outputs": [],
   "source": [
    "df['prediction'] = flat_predictions\n",
    "#df['actual'] = flat_true_labels"
   ]
  },
  {
   "cell_type": "code",
   "execution_count": 17,
   "metadata": {
    "colab": {
     "base_uri": "https://localhost:8080/",
     "height": 669
    },
    "executionInfo": {
     "elapsed": 24,
     "status": "ok",
     "timestamp": 1622980115725,
     "user": {
      "displayName": "Aakash Sharma",
      "photoUrl": "https://lh3.googleusercontent.com/a-/AOh14GgY1U43tf9_Z6VZV1hsLBf_u9Guj9GqlyzZB8ICsw=s64",
      "userId": "03793056575879410905"
     },
     "user_tz": -330
    },
    "id": "HCZL9JD47lDn",
    "outputId": "7ad453c3-60f7-4eaf-f199-c29238b0ff4c"
   },
   "outputs": [
    {
     "data": {
      "text/html": [
       "<div>\n",
       "<style scoped>\n",
       "    .dataframe tbody tr th:only-of-type {\n",
       "        vertical-align: middle;\n",
       "    }\n",
       "\n",
       "    .dataframe tbody tr th {\n",
       "        vertical-align: top;\n",
       "    }\n",
       "\n",
       "    .dataframe thead th {\n",
       "        text-align: right;\n",
       "    }\n",
       "</style>\n",
       "<table border=\"1\" class=\"dataframe\">\n",
       "  <thead>\n",
       "    <tr style=\"text-align: right;\">\n",
       "      <th></th>\n",
       "      <th>sentence</th>\n",
       "      <th>label</th>\n",
       "      <th>sheet</th>\n",
       "      <th>prediction</th>\n",
       "    </tr>\n",
       "  </thead>\n",
       "  <tbody>\n",
       "    <tr>\n",
       "      <th>0</th>\n",
       "      <td>One day there were some pirates</td>\n",
       "      <td>1</td>\n",
       "      <td>Standardize – Stand or Die</td>\n",
       "      <td>1</td>\n",
       "    </tr>\n",
       "    <tr>\n",
       "      <th>1</th>\n",
       "      <td>They could never standardize anything</td>\n",
       "      <td>1</td>\n",
       "      <td>Standardize – Stand or Die</td>\n",
       "      <td>1</td>\n",
       "    </tr>\n",
       "    <tr>\n",
       "      <th>2</th>\n",
       "      <td>They couldn’t establish how much their ship w...</td>\n",
       "      <td>0</td>\n",
       "      <td>Standardize – Stand or Die</td>\n",
       "      <td>0</td>\n",
       "    </tr>\n",
       "    <tr>\n",
       "      <th>3</th>\n",
       "      <td>They didn’t know how much their ship could hold</td>\n",
       "      <td>1</td>\n",
       "      <td>Standardize – Stand or Die</td>\n",
       "      <td>1</td>\n",
       "    </tr>\n",
       "    <tr>\n",
       "      <th>4</th>\n",
       "      <td>Then out of nowhere once their captain just s...</td>\n",
       "      <td>0</td>\n",
       "      <td>Standardize – Stand or Die</td>\n",
       "      <td>1</td>\n",
       "    </tr>\n",
       "    <tr>\n",
       "      <th>5</th>\n",
       "      <td>So reluctantly all of the pirates stood</td>\n",
       "      <td>1</td>\n",
       "      <td>Standardize – Stand or Die</td>\n",
       "      <td>0</td>\n",
       "    </tr>\n",
       "    <tr>\n",
       "      <th>6</th>\n",
       "      <td>Unfortunately their fears became true and the...</td>\n",
       "      <td>1</td>\n",
       "      <td>Standardize – Stand or Die</td>\n",
       "      <td>1</td>\n",
       "    </tr>\n",
       "    <tr>\n",
       "      <th>7</th>\n",
       "      <td>They started throwing cargo overboard to stop...</td>\n",
       "      <td>0</td>\n",
       "      <td>Standardize – Stand or Die</td>\n",
       "      <td>1</td>\n",
       "    </tr>\n",
       "    <tr>\n",
       "      <th>8</th>\n",
       "      <td>The ship sank and all they had gained was lost</td>\n",
       "      <td>1</td>\n",
       "      <td>Standardize – Stand or Die</td>\n",
       "      <td>1</td>\n",
       "    </tr>\n",
       "    <tr>\n",
       "      <th>9</th>\n",
       "      <td>Nothing had ended well</td>\n",
       "      <td>1</td>\n",
       "      <td>Standardize – Stand or Die</td>\n",
       "      <td>1</td>\n",
       "    </tr>\n",
       "    <tr>\n",
       "      <th>0</th>\n",
       "      <td>Once upon a time there was a train station cal...</td>\n",
       "      <td>1</td>\n",
       "      <td>Translation – train station</td>\n",
       "      <td>1</td>\n",
       "    </tr>\n",
       "    <tr>\n",
       "      <th>1</th>\n",
       "      <td>There was a family that wanted to go on a tri...</td>\n",
       "      <td>0</td>\n",
       "      <td>Translation – train station</td>\n",
       "      <td>0</td>\n",
       "    </tr>\n",
       "    <tr>\n",
       "      <th>2</th>\n",
       "      <td>The family said this is a very famouse train ...</td>\n",
       "      <td>1</td>\n",
       "      <td>Translation – train station</td>\n",
       "      <td>0</td>\n",
       "    </tr>\n",
       "    <tr>\n",
       "      <th>3</th>\n",
       "      <td>The translator said train station, that is no...</td>\n",
       "      <td>0</td>\n",
       "      <td>Translation – train station</td>\n",
       "      <td>1</td>\n",
       "    </tr>\n",
       "    <tr>\n",
       "      <th>0</th>\n",
       "      <td>One very bright and sunny day, Bob, Kate and T...</td>\n",
       "      <td>1</td>\n",
       "      <td>3.Suffocate – surf on kate</td>\n",
       "      <td>1</td>\n",
       "    </tr>\n",
       "    <tr>\n",
       "      <th>1</th>\n",
       "      <td>When they arrived they took out their surfboa...</td>\n",
       "      <td>1</td>\n",
       "      <td>3.Suffocate – surf on kate</td>\n",
       "      <td>1</td>\n",
       "    </tr>\n",
       "    <tr>\n",
       "      <th>2</th>\n",
       "      <td>Their last wave was huge and they rode it but...</td>\n",
       "      <td>1</td>\n",
       "      <td>3.Suffocate – surf on kate</td>\n",
       "      <td>1</td>\n",
       "    </tr>\n",
       "    <tr>\n",
       "      <th>3</th>\n",
       "      <td>When they landed on the sand, Kate was runnin...</td>\n",
       "      <td>1</td>\n",
       "      <td>3.Suffocate – surf on kate</td>\n",
       "      <td>1</td>\n",
       "    </tr>\n",
       "    <tr>\n",
       "      <th>4</th>\n",
       "      <td>They picked it up and found kate laying down ...</td>\n",
       "      <td>0</td>\n",
       "      <td>3.Suffocate – surf on kate</td>\n",
       "      <td>1</td>\n",
       "    </tr>\n",
       "    <tr>\n",
       "      <th>5</th>\n",
       "      <td>They packed up and left the beach and headed ...</td>\n",
       "      <td>1</td>\n",
       "      <td>3.Suffocate – surf on kate</td>\n",
       "      <td>1</td>\n",
       "    </tr>\n",
       "  </tbody>\n",
       "</table>\n",
       "</div>"
      ],
      "text/plain": [
       "                                            sentence  ...  prediction\n",
       "0                    One day there were some pirates  ...           1\n",
       "1              They could never standardize anything  ...           1\n",
       "2   They couldn’t establish how much their ship w...  ...           0\n",
       "3    They didn’t know how much their ship could hold  ...           1\n",
       "4   Then out of nowhere once their captain just s...  ...           1\n",
       "5            So reluctantly all of the pirates stood  ...           0\n",
       "6   Unfortunately their fears became true and the...  ...           1\n",
       "7   They started throwing cargo overboard to stop...  ...           1\n",
       "8     The ship sank and all they had gained was lost  ...           1\n",
       "9                             Nothing had ended well  ...           1\n",
       "0  Once upon a time there was a train station cal...  ...           1\n",
       "1   There was a family that wanted to go on a tri...  ...           0\n",
       "2   The family said this is a very famouse train ...  ...           0\n",
       "3   The translator said train station, that is no...  ...           1\n",
       "0  One very bright and sunny day, Bob, Kate and T...  ...           1\n",
       "1   When they arrived they took out their surfboa...  ...           1\n",
       "2   Their last wave was huge and they rode it but...  ...           1\n",
       "3   When they landed on the sand, Kate was runnin...  ...           1\n",
       "4   They picked it up and found kate laying down ...  ...           1\n",
       "5   They packed up and left the beach and headed ...  ...           1\n",
       "\n",
       "[20 rows x 4 columns]"
      ]
     },
     "execution_count": 17,
     "metadata": {
      "tags": []
     },
     "output_type": "execute_result"
    }
   ],
   "source": [
    "df.head(20)"
   ]
  },
  {
   "cell_type": "code",
   "execution_count": 18,
   "metadata": {
    "executionInfo": {
     "elapsed": 24,
     "status": "ok",
     "timestamp": 1622980115726,
     "user": {
      "displayName": "Aakash Sharma",
      "photoUrl": "https://lh3.googleusercontent.com/a-/AOh14GgY1U43tf9_Z6VZV1hsLBf_u9Guj9GqlyzZB8ICsw=s64",
      "userId": "03793056575879410905"
     },
     "user_tz": -330
    },
    "id": "t2wCSVIr-NCq"
   },
   "outputs": [],
   "source": [
    "df.to_csv('voca_output_formatted.csv')"
   ]
  },
  {
   "cell_type": "code",
   "execution_count": 22,
   "metadata": {
    "executionInfo": {
     "elapsed": 403,
     "status": "ok",
     "timestamp": 1622980212170,
     "user": {
      "displayName": "Aakash Sharma",
      "photoUrl": "https://lh3.googleusercontent.com/a-/AOh14GgY1U43tf9_Z6VZV1hsLBf_u9Guj9GqlyzZB8ICsw=s64",
      "userId": "03793056575879410905"
     },
     "user_tz": -330
    },
    "id": "xGGmCXcaAtFw"
   },
   "outputs": [],
   "source": [
    "!cp voca_output_formatted.csv \"drive/My Drive/\""
   ]
  },
  {
   "cell_type": "code",
   "execution_count": 20,
   "metadata": {
    "colab": {
     "base_uri": "https://localhost:8080/",
     "height": 481
    },
    "executionInfo": {
     "elapsed": 1821,
     "status": "ok",
     "timestamp": 1622980117527,
     "user": {
      "displayName": "Aakash Sharma",
      "photoUrl": "https://lh3.googleusercontent.com/a-/AOh14GgY1U43tf9_Z6VZV1hsLBf_u9Guj9GqlyzZB8ICsw=s64",
      "userId": "03793056575879410905"
     },
     "user_tz": -330
    },
    "id": "KZ1j6bMGyQsL",
    "outputId": "56e4e9b4-1d17-4435-9c3e-5ba3ca5fb9e5"
   },
   "outputs": [
    {
     "name": "stdout",
     "output_type": "stream",
     "text": [
      "              precision    recall  f1-score   support\n",
      "\n",
      "   Incorrect       0.16      0.33      0.21         9\n",
      "     Correct       0.96      0.90      0.93       161\n",
      "\n",
      "    accuracy                           0.87       170\n",
      "   macro avg       0.56      0.62      0.57       170\n",
      "weighted avg       0.92      0.87      0.89       170\n",
      "\n",
      "AUC:  61.7%\n"
     ]
    },
    {
     "data": {
      "image/png": "[encoded data removed]",
      "text/plain": [
       "<Figure size 432x288 with 2 Axes>"
      ]
     },
     "metadata": {
      "needs_background": "light",
      "tags": []
     },
     "output_type": "display_data"
    }
   ],
   "source": [
    "from sklearn.metrics import confusion_matrix\n",
    "from sklearn.metrics import classification_report\n",
    "from sklearn.metrics import roc_auc_score\n",
    "import itertools\n",
    "import matplotlib.pyplot as plt\n",
    "\n",
    "def plot_confusion_matrix(cm, title, classes=['Incorrect', 'Correct'],\n",
    "                          cmap=plt.cm.Blues, save=False, saveas=\"MyFigure.png\"):\n",
    "    \n",
    "    # print Confusion matrix with blue gradient colours\n",
    "    \n",
    "    #cm = cm.astype('float') / cm.sum(axis=1)[:, np.newaxis]\n",
    "    \n",
    "    plt.imshow(cm, interpolation='nearest', cmap=cmap)\n",
    "    plt.title(title)\n",
    "    plt.colorbar()\n",
    "    tick_marks = np.arange(len(classes))\n",
    "    plt.xticks(tick_marks, classes, rotation=90)\n",
    "    plt.yticks(tick_marks, classes)\n",
    "\n",
    "    fmt = '0'\n",
    "    thresh = cm.max() / 2.\n",
    "    for i, j in itertools.product(range(cm.shape[0]), range(cm.shape[1])):\n",
    "        plt.text(j, i, format(cm[i, j], fmt),\n",
    "                 horizontalalignment=\"center\",\n",
    "                 color=\"white\" if cm[i, j] > thresh else \"black\")\n",
    "\n",
    "    plt.tight_layout()\n",
    "    plt.ylabel('Actual label')\n",
    "    plt.xlabel('Predicted label')\n",
    "    \n",
    "    if save:\n",
    "        plt.savefig(saveas, dpi=100)\n",
    "\n",
    "print(classification_report(flat_true_labels, flat_predictions, target_names=['Incorrect', 'Correct']))\n",
    "print (\"AUC: \", \"{:.1%}\".format(roc_auc_score(flat_true_labels, flat_predictions)))\n",
    "cm = confusion_matrix(flat_true_labels, flat_predictions)\n",
    "plot_confusion_matrix(cm, title=\"Confusion Matrix\", save=True, saveas=\"IF_SA.png\")"
   ]
  }
 ],
 "metadata": {
  "accelerator": "GPU",
  "colab": {
   "authorship_tag": "ABX9TyOwJwtGXgJAec8VjvlfqUtu",
   "collapsed_sections": [],
   "name": "Roberta_v2_prediction.ipynb",
   "provenance": []
  },
  "kernelspec": {
   "display_name": "Python 3",
   "language": "python",
   "name": "python3"
  },
  "language_info": {
   "codemirror_mode": {
    "name": "ipython",
    "version": 3
   },
   "file_extension": ".py",
   "mimetype": "text/x-python",
   "name": "python",
   "nbconvert_exporter": "python",
   "pygments_lexer": "ipython3",
   "version": "3.8.8"
  }
 },
 "nbformat": 4,
 "nbformat_minor": 1
}
